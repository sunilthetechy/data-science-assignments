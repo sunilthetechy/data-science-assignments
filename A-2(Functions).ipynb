{
 "cells": [
  {
   "cell_type": "markdown",
   "id": "94ad3288-ee8f-4c9b-9d55-cdd924666197",
   "metadata": {},
   "source": [
    "### Q1. Create a python program to sort the given list of tuples based on integer value using a lambda function.\n",
    "[('Sachin Tendulkar', 34357), ('Ricky Ponting', 27483), ('Jack Kallis', 25534), ('Virat Kohli', 24936)]"
   ]
  },
  {
   "cell_type": "code",
   "execution_count": 4,
   "id": "c60b1c74-168d-47ad-bfcf-070d5c08c2d5",
   "metadata": {},
   "outputs": [
    {
     "name": "stdout",
     "output_type": "stream",
     "text": [
      "('Virat Kohli', 24936)\n",
      "('Jack Kallis', 25534)\n",
      "('Ricky Ponting', 27483)\n",
      "('Sachin Tendulkar', 34357)\n"
     ]
    }
   ],
   "source": [
    "players = [('Sachin Tendulkar', 34357), ('Ricky Ponting', 27483), ('Jack Kallis', 25534), ('Virat Kohli', 24936)]\n",
    "sorted_players = sorted(players, key=lambda x: x[1])\n",
    "\n",
    "for player in sorted_players:\n",
    "    print(player)\n"
   ]
  },
  {
   "cell_type": "markdown",
   "id": "46240a77-b0ae-4261-92ef-7018ec13cc5f",
   "metadata": {},
   "source": [
    "### Q2. Write a Python Program to find the squares of all the numbers in the given list of integers using lambda and map functions.\n",
    "##### [1, 2, 3, 4, 5, 6, 7, 8, 9, 10]"
   ]
  },
  {
   "cell_type": "code",
   "execution_count": 3,
   "id": "4e32e88a-6db8-4443-b5d3-4f8f3b4d1c48",
   "metadata": {},
   "outputs": [
    {
     "name": "stdout",
     "output_type": "stream",
     "text": [
      "[1, 4, 9, 16, 25, 36, 49, 64, 81, 100]\n"
     ]
    }
   ],
   "source": [
    "l1=[1,2,3,4,5,6,7,8,9,10]\n",
    "squares=list(map(lambda x:x**2 ,l1))\n",
    "print(squares)"
   ]
  },
  {
   "cell_type": "markdown",
   "id": "cd200a09-7dda-4de7-b597-62c595512bf9",
   "metadata": {},
   "source": [
    "### Q3. Write a python program to convert the given list of integers into a tuple of strings. Use map and lambda functions\n",
    "#### Given String: [1, 2, 3, 4, 5, 6, 7, 8, 9, 10]\n",
    "#### Expected output: ('1', '2', '3', '4', '5', '6', '7', '8', '9', '10')"
   ]
  },
  {
   "cell_type": "code",
   "execution_count": 6,
   "id": "44ad5a51-41ec-4e81-a4f1-9dac4d2580a4",
   "metadata": {},
   "outputs": [
    {
     "name": "stdout",
     "output_type": "stream",
     "text": [
      "('1', '2', '3', '4', '5', '6', '7', '8', '9', '10')\n"
     ]
    }
   ],
   "source": [
    "l1=[1, 2, 3, 4, 5, 6, 7, 8, 9, 10]\n",
    "ts=tuple(map(lambda x:str(x),l1))\n",
    "print(ts)"
   ]
  },
  {
   "cell_type": "markdown",
   "id": "73979e8d-fd64-4732-a88f-aac535487a36",
   "metadata": {},
   "source": [
    "### Q4. Write a python program using reduce function to compute the product of a list containing numbers from 1 to 25."
   ]
  },
  {
   "cell_type": "code",
   "execution_count": 13,
   "id": "b571cf02-16ff-49a9-8558-f4208ea6bcba",
   "metadata": {},
   "outputs": [
    {
     "name": "stdout",
     "output_type": "stream",
     "text": [
      "15511210043330985984000000\n"
     ]
    }
   ],
   "source": [
    "from functools import reduce\n",
    "l1=[i for i in range(1,26)]\n",
    "product=reduce(lambda x,y:x*y,l1)\n",
    "print(product)"
   ]
  },
  {
   "cell_type": "markdown",
   "id": "95e27615-5c51-475c-b1a0-a461b9359cd3",
   "metadata": {},
   "source": [
    "### Q5. Write a python program to filter the numbers in a given list that are divisible by 2 and 3 using the filter function.\n",
    "#### [2, 3, 6, 9, 27, 60, 90, 120, 55, 46]"
   ]
  },
  {
   "cell_type": "code",
   "execution_count": 7,
   "id": "c2d0ab11-b433-4561-a0ab-f679116657a8",
   "metadata": {},
   "outputs": [
    {
     "name": "stdout",
     "output_type": "stream",
     "text": [
      "[6, 60, 90, 120]\n"
     ]
    }
   ],
   "source": [
    "l1=[2, 3, 6, 9, 27, 60, 90, 120, 55, 46]\n",
    "filtered=list(filter(lambda x:x%2==0 and x%3==0,l1))\n",
    "print(filtered)"
   ]
  },
  {
   "cell_type": "markdown",
   "id": "3e2c3438-3dd7-47a1-889d-4c9b526cd2aa",
   "metadata": {},
   "source": [
    "### Q6. Write a python program to find palindromes in the given list of strings using lambda and filter function.\n",
    "#### ['python', 'php', 'aba', 'radar', 'level']"
   ]
  },
  {
   "cell_type": "code",
   "execution_count": 15,
   "id": "54207b69-99f3-43fd-b165-1fa72cb2e73c",
   "metadata": {},
   "outputs": [
    {
     "name": "stdout",
     "output_type": "stream",
     "text": [
      "['php', 'aba', 'radar', 'level']\n"
     ]
    }
   ],
   "source": [
    "# Method 1 Recommended\n",
    "l1=['python', 'php', 'aba', 'radar', 'level']\n",
    "check=list(filter(lambda x: x == x[::-1],l1))\n",
    "print(check)"
   ]
  },
  {
   "cell_type": "code",
   "execution_count": 17,
   "id": "c3ceb3f4-5bc5-4334-abd9-896cea190201",
   "metadata": {},
   "outputs": [
    {
     "data": {
      "text/plain": [
       "['php', 'aba', 'radar', 'level']"
      ]
     },
     "execution_count": 17,
     "metadata": {},
     "output_type": "execute_result"
    }
   ],
   "source": [
    "# Method 2 \n",
    "palindrome = lambda x: x == x[::-1]\n",
    "l1=['python', 'php', 'aba', 'radar', 'level']\n",
    "check=list(filter(palindrome,l1))\n",
    "check"
   ]
  },
  {
   "cell_type": "code",
   "execution_count": null,
   "id": "64b3a387-380d-43cd-ac1f-c1317a3b009c",
   "metadata": {},
   "outputs": [],
   "source": []
  }
 ],
 "metadata": {
  "kernelspec": {
   "display_name": "Python 3 (ipykernel)",
   "language": "python",
   "name": "python3"
  },
  "language_info": {
   "codemirror_mode": {
    "name": "ipython",
    "version": 3
   },
   "file_extension": ".py",
   "mimetype": "text/x-python",
   "name": "python",
   "nbconvert_exporter": "python",
   "pygments_lexer": "ipython3",
   "version": "3.10.8"
  }
 },
 "nbformat": 4,
 "nbformat_minor": 5
}
