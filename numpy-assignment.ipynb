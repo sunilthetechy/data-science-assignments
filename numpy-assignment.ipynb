{
 "cells": [
  {
   "cell_type": "code",
   "execution_count": 11,
   "id": "1cc92c06-8ed8-41ba-9c7d-f0bc99bf0dd5",
   "metadata": {},
   "outputs": [],
   "source": [
    "import numpy as np\n",
    "list_ = ['1','2','3','4','5']\n",
    "array_list = np.array(object = list_)"
   ]
  },
  {
   "cell_type": "raw",
   "id": "e0087542-0e24-4d6b-a66c-9031b74ba325",
   "metadata": {},
   "source": [
    "Q1. Is there any difference in the data type of variables list_ and array_list? If there is then write a code\n",
    "to print the data types of both the variables."
   ]
  },
  {
   "cell_type": "code",
   "execution_count": 12,
   "id": "ebf26ab3-1c16-4363-aec0-8d660d3b7bbe",
   "metadata": {},
   "outputs": [
    {
     "data": {
      "text/plain": [
       "numpy.ndarray"
      ]
     },
     "execution_count": 12,
     "metadata": {},
     "output_type": "execute_result"
    }
   ],
   "source": [
    "type(array_list)"
   ]
  },
  {
   "cell_type": "code",
   "execution_count": 13,
   "id": "932ea473-d954-49a1-9e49-d4d195bb4a47",
   "metadata": {},
   "outputs": [
    {
     "data": {
      "text/plain": [
       "list"
      ]
     },
     "execution_count": 13,
     "metadata": {},
     "output_type": "execute_result"
    }
   ],
   "source": [
    "type(list_)"
   ]
  },
  {
   "cell_type": "raw",
   "id": "9a652a06-4243-425a-b935-c0ce8ba3d951",
   "metadata": {},
   "source": [
    "Q2. Write a code to print the data type of each and every element of both the variables list_ and\n",
    "arra_list."
   ]
  },
  {
   "cell_type": "code",
   "execution_count": 14,
   "id": "3a73ca42-e606-4395-8c53-108bbd412980",
   "metadata": {},
   "outputs": [],
   "source": [
    "def datatype(x):\n",
    "    print(f\"{x}:{type(x)}\")"
   ]
  },
  {
   "cell_type": "code",
   "execution_count": 15,
   "id": "f0ef652c-b23b-43a4-b8c9-a02f34bbb470",
   "metadata": {},
   "outputs": [
    {
     "data": {
      "text/html": [
       "<div>\n",
       "<style scoped>\n",
       "    .dataframe tbody tr th:only-of-type {\n",
       "        vertical-align: middle;\n",
       "    }\n",
       "\n",
       "    .dataframe tbody tr th {\n",
       "        vertical-align: top;\n",
       "    }\n",
       "\n",
       "    .dataframe thead th {\n",
       "        text-align: right;\n",
       "    }\n",
       "</style>\n",
       "<table border=\"1\" class=\"dataframe\">\n",
       "  <thead>\n",
       "    <tr style=\"text-align: right;\">\n",
       "      <th></th>\n",
       "      <th>0</th>\n",
       "    </tr>\n",
       "  </thead>\n",
       "  <tbody>\n",
       "    <tr>\n",
       "      <th>0</th>\n",
       "      <td>1</td>\n",
       "    </tr>\n",
       "    <tr>\n",
       "      <th>1</th>\n",
       "      <td>2</td>\n",
       "    </tr>\n",
       "    <tr>\n",
       "      <th>2</th>\n",
       "      <td>3</td>\n",
       "    </tr>\n",
       "    <tr>\n",
       "      <th>3</th>\n",
       "      <td>4</td>\n",
       "    </tr>\n",
       "    <tr>\n",
       "      <th>4</th>\n",
       "      <td>5</td>\n",
       "    </tr>\n",
       "  </tbody>\n",
       "</table>\n",
       "</div>"
      ],
      "text/plain": [
       "   0\n",
       "0  1\n",
       "1  2\n",
       "2  3\n",
       "3  4\n",
       "4  5"
      ]
     },
     "execution_count": 15,
     "metadata": {},
     "output_type": "execute_result"
    }
   ],
   "source": [
    "import pandas as pd\n",
    "df=pd.DataFrame(array_list)\n",
    "df"
   ]
  },
  {
   "cell_type": "code",
   "execution_count": 16,
   "id": "9bd83457-f306-4091-be91-1344e25c74d4",
   "metadata": {},
   "outputs": [
    {
     "name": "stdout",
     "output_type": "stream",
     "text": [
      "1:<class 'str'>\n",
      "2:<class 'str'>\n",
      "3:<class 'str'>\n",
      "4:<class 'str'>\n",
      "5:<class 'str'>\n"
     ]
    },
    {
     "data": {
      "text/plain": [
       "0    None\n",
       "1    None\n",
       "2    None\n",
       "3    None\n",
       "4    None\n",
       "Name: 0, dtype: object"
      ]
     },
     "execution_count": 16,
     "metadata": {},
     "output_type": "execute_result"
    }
   ],
   "source": [
    "df[0].apply(datatype)"
   ]
  },
  {
   "cell_type": "code",
   "execution_count": 17,
   "id": "c30fb901-c1d2-48a1-8b8c-106e4e0bf515",
   "metadata": {},
   "outputs": [],
   "source": [
    "def datatypes(x):\n",
    "    for i in x:\n",
    "        print(f\"{i} : {type(i)}\")"
   ]
  },
  {
   "cell_type": "code",
   "execution_count": 18,
   "id": "1b36cc6b-a297-4508-9808-b801a16673ac",
   "metadata": {},
   "outputs": [
    {
     "name": "stdout",
     "output_type": "stream",
     "text": [
      "1 : <class 'str'>\n",
      "2 : <class 'str'>\n",
      "3 : <class 'str'>\n",
      "4 : <class 'str'>\n",
      "5 : <class 'str'>\n"
     ]
    }
   ],
   "source": [
    "datatypes(list_)"
   ]
  },
  {
   "cell_type": "code",
   "execution_count": 19,
   "id": "8f94baa7-be17-454e-addd-9c3f36e5e458",
   "metadata": {},
   "outputs": [
    {
     "name": "stdout",
     "output_type": "stream",
     "text": [
      "1 : <class 'numpy.str_'>\n",
      "2 : <class 'numpy.str_'>\n",
      "3 : <class 'numpy.str_'>\n",
      "4 : <class 'numpy.str_'>\n",
      "5 : <class 'numpy.str_'>\n"
     ]
    }
   ],
   "source": [
    "datatypes(array_list)"
   ]
  },
  {
   "cell_type": "raw",
   "id": "f79ff872-0775-450e-bc5c-1b3c9214eff5",
   "metadata": {},
   "source": [
    "Q3. Considering the following changes in the variable, array_list:\n",
    "array_list = np.array(object = list_, dtype = int)\n",
    "Will there be any difference in the data type of the elements present in both the variables, list_ and\n",
    "arra_list? If so then print the data types of each and every element present in both the variables, list_\n",
    "and arra_list."
   ]
  },
  {
   "cell_type": "code",
   "execution_count": 20,
   "id": "e11272a8-9037-4e5a-89d4-9064c0d961d2",
   "metadata": {},
   "outputs": [],
   "source": [
    "array_list = np.array(object = list_, dtype = int)"
   ]
  },
  {
   "cell_type": "code",
   "execution_count": 21,
   "id": "2d5855b0-363b-47fc-b44b-9219f02d6ba0",
   "metadata": {},
   "outputs": [
    {
     "name": "stdout",
     "output_type": "stream",
     "text": [
      "1 : <class 'numpy.int64'>\n",
      "2 : <class 'numpy.int64'>\n",
      "3 : <class 'numpy.int64'>\n",
      "4 : <class 'numpy.int64'>\n",
      "5 : <class 'numpy.int64'>\n"
     ]
    }
   ],
   "source": [
    "datatypes(array_list)"
   ]
  },
  {
   "cell_type": "code",
   "execution_count": 22,
   "id": "18c82f7a-99a6-45ad-8b84-2e689a89cc6d",
   "metadata": {},
   "outputs": [
    {
     "name": "stdout",
     "output_type": "stream",
     "text": [
      "1 : <class 'str'>\n",
      "2 : <class 'str'>\n",
      "3 : <class 'str'>\n",
      "4 : <class 'str'>\n",
      "5 : <class 'str'>\n"
     ]
    }
   ],
   "source": [
    "datatypes(list_)"
   ]
  },
  {
   "cell_type": "raw",
   "id": "7a59fc41-2c47-4b9c-9fe8-de14743f6654",
   "metadata": {},
   "source": [
    "Consider the below code to answer further questions:\n",
    "import numpy as np\n",
    "num_list = [ [ 1 , 2 , 3 ] , [ 4 , 5 , 6 ] ]\n",
    "num_array = np.array(object = num_list)\n",
    "Q4. Write a code to find the following characteristics of variable, num_array:\n",
    "(i) shape\n",
    "(ii) size"
   ]
  },
  {
   "cell_type": "code",
   "execution_count": 24,
   "id": "111d9116-7870-4694-a003-24d41b88a6a0",
   "metadata": {},
   "outputs": [],
   "source": [
    "import numpy as np\n",
    "num_list = [ [ 1 , 2 , 3 ] , [ 4 , 5 , 6 ] ]\n",
    "num_array = np.array(object = num_list)"
   ]
  },
  {
   "cell_type": "code",
   "execution_count": 25,
   "id": "c2ebd935-a33e-4464-aea2-5ac95a09cb7a",
   "metadata": {},
   "outputs": [
    {
     "data": {
      "text/plain": [
       "(2, 3)"
      ]
     },
     "execution_count": 25,
     "metadata": {},
     "output_type": "execute_result"
    }
   ],
   "source": [
    "num_array.shape"
   ]
  },
  {
   "cell_type": "code",
   "execution_count": 26,
   "id": "df09c634-be1c-4488-b27d-037d09905f6f",
   "metadata": {},
   "outputs": [
    {
     "data": {
      "text/plain": [
       "6"
      ]
     },
     "execution_count": 26,
     "metadata": {},
     "output_type": "execute_result"
    }
   ],
   "source": [
    "num_array.size"
   ]
  },
  {
   "cell_type": "raw",
   "id": "bfbf32c1-9454-49fe-bd7d-241978c54fc0",
   "metadata": {},
   "source": [
    "Q5. Write a code to create numpy array of 3*3 matrix containing zeros only, using a numpy array\n",
    "creation function.\n",
    "[Hint: The size of the array will be 9 and the shape will be (3,3).]"
   ]
  },
  {
   "cell_type": "code",
   "execution_count": 27,
   "id": "909b670f-b26d-43f3-bacd-c4389448aa6b",
   "metadata": {},
   "outputs": [
    {
     "data": {
      "text/plain": [
       "array([[0., 0., 0.],\n",
       "       [0., 0., 0.],\n",
       "       [0., 0., 0.]])"
      ]
     },
     "execution_count": 27,
     "metadata": {},
     "output_type": "execute_result"
    }
   ],
   "source": [
    "arr=np.zeros((3,3))\n",
    "arr"
   ]
  },
  {
   "cell_type": "raw",
   "id": "88efc761-331c-4d36-836f-0292a5ecdea4",
   "metadata": {},
   "source": [
    "Q6. Create an identity matrix of shape (5,5) using numpy functions?\n",
    "[Hint: An identity matrix is a matrix containing 1 diagonally and other elements will be 0.]"
   ]
  },
  {
   "cell_type": "code",
   "execution_count": 32,
   "id": "cc59a9a8-c5bc-4559-8442-d85005259909",
   "metadata": {},
   "outputs": [
    {
     "data": {
      "text/plain": [
       "array([[1., 0., 0., 0., 0.],\n",
       "       [0., 1., 0., 0., 0.],\n",
       "       [0., 0., 1., 0., 0.],\n",
       "       [0., 0., 0., 1., 0.],\n",
       "       [0., 0., 0., 0., 1.]])"
      ]
     },
     "execution_count": 32,
     "metadata": {},
     "output_type": "execute_result"
    }
   ],
   "source": [
    "arr=np.eye(5)\n",
    "arr"
   ]
  },
  {
   "cell_type": "code",
   "execution_count": null,
   "id": "5d95cbe8-18c7-4625-a179-cb8146f4c3ae",
   "metadata": {},
   "outputs": [],
   "source": []
  }
 ],
 "metadata": {
  "kernelspec": {
   "display_name": "Python 3 (ipykernel)",
   "language": "python",
   "name": "python3"
  },
  "language_info": {
   "codemirror_mode": {
    "name": "ipython",
    "version": 3
   },
   "file_extension": ".py",
   "mimetype": "text/x-python",
   "name": "python",
   "nbconvert_exporter": "python",
   "pygments_lexer": "ipython3",
   "version": "3.10.8"
  }
 },
 "nbformat": 4,
 "nbformat_minor": 5
}
