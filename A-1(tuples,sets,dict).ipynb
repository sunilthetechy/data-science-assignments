{
 "cells": [
  {
   "cell_type": "markdown",
   "id": "47c9299c-5edf-4014-99a1-a2ade7fef2be",
   "metadata": {},
   "source": [
    "### Q1. What are the characteristics of the tuples? Is tuple immutable?"
   ]
  },
  {
   "cell_type": "markdown",
   "id": "6fd252ce-d8dd-4900-a793-4d2444c9fb34",
   "metadata": {},
   "source": [
    "Tuples are data structures in Python that have several characteristics:\n",
    "\n",
    "1. Ordered: Tuples are ordered collections, which means the elements in a tuple have a specific order, and this order is maintained.\n",
    "\n",
    "2. Heterogeneous: Tuples can contain elements of different data types (e.g., integers, strings, floats) in the same tuple.\n",
    "\n",
    "3. Indexed: Each element in a tuple can be accessed using an index, starting from 0 for the first element, 1 for the second, and so on.\n",
    "\n",
    "4. Immutable: Yes, tuples are immutable, which means once a tuple is created, its elements cannot be changed, added, or removed. You cannot modify the contents of a tuple after it's been created. However, if a tuple contains mutable objects (e.g., lists), you can modify the mutable objects inside the tuple.\n",
    "\n",
    "Here's an example of creating a tuple and trying to modify it:\n",
    "\n",
    "```python\n",
    "# Creating a tuple\n",
    "my_tuple = (1, 'hello', 3.14)\n",
    "\n",
    "# Accessing elements by index\n",
    "print(my_tuple[0])  # Output: 1\n",
    "print(my_tuple[1])  # Output: 'hello'\n",
    "\n",
    "# Attempting to modify the tuple (this will raise an error)\n",
    "# my_tuple[0] = 2  # Raises a TypeError since tuples are immutable\n",
    "\n",
    "# However, if a tuple contains mutable objects, those objects can be modified\n",
    "my_tuple_with_list = ([1, 2, 3], 'tuple')\n",
    "my_tuple_with_list[0][0] = 100\n",
    "print(my_tuple_with_list)  # Output: ([100, 2, 3], 'tuple')\n",
    "```\n",
    "\n",
    "So, to summarize, tuples are an ordered, heterogeneous, indexed, and immutable data structure in Python."
   ]
  },
  {
   "cell_type": "markdown",
   "id": "03159352-bdfb-46bf-9692-2919b272fb5a",
   "metadata": {},
   "source": [
    "### Q2. What are the two tuple methods in python? Give an example of each method. Give a reason why tuples have only two in-built methods as compared to Lists."
   ]
  },
  {
   "cell_type": "markdown",
   "id": "cdc073a1-b717-4136-8f15-2921ee67050b",
   "metadata": {},
   "source": [
    "In Python, tuples have two built-in methods:\n",
    "\n",
    "1. **count():** This method is used to count the number of occurrences of a specified element in the tuple.\n",
    "\n",
    "2. **index():** The index() method is used to find the index of the first occurrence of a specified element in the tuple.\n",
    "\n",
    "Let's see an example of each method:\n",
    "\n",
    "**Example of count() method:**\n",
    "```python\n",
    "my_tuple = (1, 2, 3, 2, 4, 2)\n",
    "\n",
    "# Count the number of occurrences of the element '2' in the tuple\n",
    "count_of_2 = my_tuple.count(2)\n",
    "print(count_of_2)  # Output: 3\n",
    "```\n",
    "\n",
    "**Example of index() method:**\n",
    "```python\n",
    "my_tuple = ('apple', 'banana', 'orange', 'apple')\n",
    "\n",
    "# Find the index of the first occurrence of 'apple' in the tuple\n",
    "index_of_apple = my_tuple.index('apple')\n",
    "print(index_of_apple)  # Output: 0\n",
    "```\n",
    "\n",
    "Now, let's discuss why tuples have only two built-in methods as compared to lists:\n",
    "Tuples are immutable we can modify the data which was entered at the declaration we just can know the count of the elements and index position of the specific element thatswhy we have only two builtin functions\n",
    "But lists have a larger number of built-in methods (e.g., append(), insert(), remove(), pop(), etc.) because they are mutable."
   ]
  },
  {
   "cell_type": "markdown",
   "id": "ca36bc8e-b016-49d6-b938-67dd1e58ed67",
   "metadata": {},
   "source": [
    "### Q3. Which collection datatypes in python do not allow duplicate items? Write a code using a set to remove duplicates from the given list.\n",
    "### List = [1, 1, 1, 2, 1, 3, 1, 4, 2, 1, 2, 2, 2, 3, 2, 4, 3, 1, 3, 2, 3, 3, 3, 4, 4, 1, 4, 2, 4, 3, 4, 4]"
   ]
  },
  {
   "cell_type": "markdown",
   "id": "7e3a02e5-68b8-4c7e-a0ac-3a1662ad8417",
   "metadata": {
    "tags": []
   },
   "source": [
    "In Python, the collection datatype that does not allow duplicate items is the **set**. Sets are unordered collections of unique elements, meaning that any duplicate values in a set will automatically be removed.\n",
    "\n",
    "Here's the code using a set to remove duplicates from the given list:\n",
    "\n",
    "```python\n",
    "# Given list with duplicate items\n",
    "my_list = [1, 1, 1, 2, 1, 3, 1, 4, 2, 1, 2, 2, 2, 3, 2, 4, 3, 1, 3, 2, 3, 3, 3, 4, 4, 1, 4, 2, 4, 3, 4, 4]\n",
    "\n",
    "# Convert the list to a set to remove duplicates\n",
    "unique_set = set(my_list)\n",
    "\n",
    "# Convert the set back to a list (if you need the result as a list)\n",
    "unique_list = list(unique_set)\n",
    "\n",
    "print(unique_list)\n",
    "```\n",
    "\n",
    "Output:\n",
    "```\n",
    "[1, 2, 3, 4]\n",
    "```\n"
   ]
  },
  {
   "cell_type": "markdown",
   "id": "53ce8120-dc01-416a-bd0b-5314557a605a",
   "metadata": {},
   "source": [
    "### Q4. Explain the difference between the union() and update() methods for a set. Give an example of each method."
   ]
  },
  {
   "cell_type": "markdown",
   "id": "a0731dc7-0516-4cca-b693-36e6f279ecd4",
   "metadata": {},
   "source": [
    "\n",
    "\n",
    "Both the `union()` and `update()` methods are used with sets in Python, but they have different purposes and behaviors.\n",
    "\n",
    "**1. `union()` method:**\n",
    "\n",
    "The `union()` method is used to create a new set that contains all the unique elements from two or more sets. It does not modify the original sets but rather returns a new set containing the elements from all the sets without any duplicates.\n",
    "\n",
    "Syntax:\n",
    "```\n",
    "new_set = set1.union(set2, set3, ...)\n",
    "```\n",
    "\n",
    "- `set1`: The original set on which the `union()` method is called.\n",
    "- `set2`, `set3`, ...: Additional sets whose elements are combined with the elements of `set1` to form the new set.\n",
    "\n",
    "Example of `union()` method:\n",
    "```python\n",
    "set1 = {1, 2, 3}\n",
    "set2 = {3, 4, 5}\n",
    "\n",
    "# Create a new set containing all unique elements from set1 and set2\n",
    "union_set = set1.union(set2)\n",
    "\n",
    "print(union_set)  # Output: {1, 2, 3, 4, 5}\n",
    "```\n",
    "\n",
    "**2. `update()` method:**\n",
    "\n",
    "The `update()` method is used to update the original set by adding all the unique elements from another set to it. It modifies the set on which it is called and does not return a new set.\n",
    "\n",
    "Syntax:\n",
    "```\n",
    "set1.update(set2)\n",
    "```\n",
    "\n",
    "- `set1`: The original set to be updated.\n",
    "- `set2`: Another set whose elements will be added to `set1`.\n",
    "\n",
    "Example of `update()` method:\n",
    "\n",
    "set1 = {1, 2, 3}\n",
    "set2 = {3, 4, 5}\n",
    "\n",
    "#### Update set1 by adding all unique elements from set2\n",
    "set1.update(set2)\n",
    "\n",
    "print(set1)  # Output: {1, 2, 3, 4, 5}\n"
   ]
  },
  {
   "cell_type": "markdown",
   "id": "525f74ba-fc0d-48ce-aed7-2e620adc4230",
   "metadata": {},
   "source": [
    "### Q5. What is a dictionary? Give an example. Also, state whether a dictionary is ordered or unordered."
   ]
  },
  {
   "cell_type": "markdown",
   "id": "661ab228-fe27-404a-92f5-8f321b0aaade",
   "metadata": {},
   "source": [
    "A dictionary is a data structure in Python that stores a collection of key-value pairs. Each key in the dictionary is unique, and it is used to access its corresponding value. Dictionaries are often referred to as \"associative arrays\" or \"hash maps\" in other programming languages.\n",
    "\n",
    "In a dictionary, keys are used to index and access the values, providing fast and efficient data retrieval. The values can be of any data type, such as integers, strings, lists, or even other dictionaries.\n",
    "\n",
    "Here's an example of a dictionary:\n",
    "\n",
    "```python\n",
    "# Creating a dictionary to store information about a person\n",
    "person = {\n",
    "    'name': 'John Doe',\n",
    "    'age': 30,\n",
    "    'occupation': 'Software Engineer',\n",
    "    'location': 'New York',\n",
    "    'email': 'john.doe@example.com'\n",
    "}\n",
    "\n",
    "# Accessing values using keys\n",
    "print(person['name'])        # Output: John Doe\n",
    "print(person['age'])         # Output: 30\n",
    "print(person['occupation'])  # Output: Software Engineer\n",
    "```\n",
    "\n",
    "In the above example, the dictionary `person` contains various pieces of information about a person. Each key (e.g., 'name', 'age', 'occupation') maps to its corresponding value ('John Doe', 30, 'Software Engineer').\n",
    "\n",
    "Now, regarding the order of a dictionary:\n",
    "\n",
    "**In Python versions before 3.7:** Dictionaries were unordered, meaning the key-value pairs were stored in an arbitrary order, and there was no guarantee about the order in which the items were accessed or iterated.\n",
    "\n",
    "**In Python 3.7 and above:** Dictionaries became ordered. Starting from Python 3.7, the insertion order of key-value pairs in dictionaries is preserved. This means that the elements maintain the order in which they were added to the dictionary.\n",
    "\n",
    "However, even though dictionaries are ordered in Python 3.7+, it's essential to note that the order is based on the insertion sequence and not on the values of the keys. The keys themselves remain unique and are used for fast retrieval of corresponding values."
   ]
  },
  {
   "cell_type": "markdown",
   "id": "4f37c3be-3551-4577-b5dc-bb6807b804e6",
   "metadata": {},
   "source": [
    "### Q6. Can we create a nested dictionary? If so, please give an example by creating a simple one-level nested dictionary.\n",
    "\n",
    "Yes, we can create Nested Dictionary\n",
    "\n",
    "Example:"
   ]
  },
  {
   "cell_type": "code",
   "execution_count": 8,
   "id": "339dec48-270b-4097-97e3-8e475b4ace25",
   "metadata": {},
   "outputs": [],
   "source": [
    "dict={'name':'sunilyadav','address':{'dno':'17-17-2143','landmark':'fort are'},'mobile':[9874823231,6301032445]}"
   ]
  },
  {
   "cell_type": "code",
   "execution_count": 9,
   "id": "ef9ec5a8-258e-4f82-9aa3-0f1edc918640",
   "metadata": {},
   "outputs": [
    {
     "data": {
      "text/plain": [
       "{'name': 'sunilyadav',\n",
       " 'address': {'dno': '17-17-2143', 'landmark': 'fort are'},\n",
       " 'mobile': [9874823231, 6301032445]}"
      ]
     },
     "execution_count": 9,
     "metadata": {},
     "output_type": "execute_result"
    }
   ],
   "source": [
    "dict"
   ]
  },
  {
   "cell_type": "markdown",
   "id": "3cf2cf51-a695-49d0-aeba-413eeec37ed8",
   "metadata": {},
   "source": [
    "### Q7. Using setdefault() method, create key named topics in the given dictionary and also add the value of the key as this list ['Python', 'Machine Learning’, 'Deep Learning']"
   ]
  },
  {
   "cell_type": "markdown",
   "id": "2b9aa582-9001-49be-ab9d-56542ad9695e",
   "metadata": {},
   "source": [
    "Sure! To create a key named 'topics' and set its value to the list ['Python', 'Machine Learning', 'Deep Learning'] using the `setdefault()` method, you can do the following:\n",
    "\n",
    "```python\n",
    "# Given dictionary\n",
    "my_dict = {\n",
    "    'name': 'John Doe',\n",
    "    'age': 30,\n",
    "    'occupation': 'Software Engineer',\n",
    "}\n",
    "\n",
    "# Using setdefault() to add the 'topics' key and its value\n",
    "my_dict.setdefault('topics', ['Python', 'Machine Learning', 'Deep Learning'])\n",
    "\n",
    "print(my_dict)\n",
    "```\n",
    "\n",
    "Output:\n",
    "```\n",
    "{\n",
    "    'name': 'John Doe',\n",
    "    'age': 30,\n",
    "    'occupation': 'Software Engineer',\n",
    "    'topics': ['Python', 'Machine Learning', 'Deep Learning']\n",
    "}\n",
    "```\n",
    "\n",
    "The `setdefault()` method checks if the 'topics' key already exists in the dictionary. If it does not exist, it adds the key with the provided default value, which is the list `['Python', 'Machine Learning', 'Deep Learning']` in this case. If the key already exists, it does not modify the dictionary.\n",
    "\n",
    "In this example, since 'topics' key was not present in the original dictionary, the method added the key and set its value to the given list."
   ]
  },
  {
   "cell_type": "markdown",
   "id": "3c8b3757-0b57-4248-9e1b-ae5d9fe8b9bb",
   "metadata": {},
   "source": [
    "### Q7. Using setdefault() method, create key named topics in the given dictionary and also add the value of the key as this list ['Python', 'Machine Learning’, 'Deep Learning']\n",
    "#### dict1 = {'language' : 'Python', 'course': 'Data Science Masters'}"
   ]
  },
  {
   "cell_type": "code",
   "execution_count": 22,
   "id": "a2c4db4e-e3fe-478b-90ff-647fa0ba07f7",
   "metadata": {},
   "outputs": [
    {
     "data": {
      "text/plain": [
       "{'language': 'python',\n",
       " 'course': 'Data Science Masters',\n",
       " 'topics': ['Python', 'Machine Learning', 'Deep Learning']}"
      ]
     },
     "execution_count": 22,
     "metadata": {},
     "output_type": "execute_result"
    }
   ],
   "source": [
    "dict1={'language':'python','course':'Data Science Masters'}\n",
    "dict1.setdefault('topics',['Python','Machine Learning','Deep Learning'])\n",
    "dict1"
   ]
  },
  {
   "cell_type": "markdown",
   "id": "a67663fd-ae0a-4e0a-b84b-137ff012e1e8",
   "metadata": {},
   "source": [
    "### Q8. What are the three view objects in dictionaries? Use the three in-built methods in python to display these three view objects for the given dictionary.\n",
    "#### dict1 = {'Sport': 'Cricket' , 'Teams': ['India', 'Australia', 'England', 'South Africa', 'Sri Lanka', 'New Zealand']}"
   ]
  },
  {
   "cell_type": "markdown",
   "id": "89745ac8-bb1a-4573-bb3c-8e2d9e41b9f1",
   "metadata": {},
   "source": [
    "In Python, dictionaries have three view objects that provide dynamic views of the dictionary's keys, values, and key-value pairs. These view objects are:\n",
    "\n",
    "1. **dict_keys:** This view object represents the keys of the dictionary.\n",
    "2. **dict_values:** This view object represents the values of the dictionary.\n",
    "3. **dict_items:** This view object represents the key-value pairs of the dictionary.\n",
    "\n",
    "These view objects provide a dynamic view of the dictionary, meaning that any changes made to the dictionary will be reflected in the view objects, and vice versa.\n",
    "\n",
    "Now, let's use the three in-built methods (`keys()`, `values()`, and `items()`) to display these view objects for the given dictionary:\n"
   ]
  },
  {
   "cell_type": "code",
   "execution_count": 23,
   "id": "d56be218-791a-4680-b051-cdb43108b2d1",
   "metadata": {},
   "outputs": [
    {
     "name": "stdout",
     "output_type": "stream",
     "text": [
      "View object for keys: dict_keys(['Sport', 'Teams'])\n",
      "View object for values: dict_values(['Cricket', ['India', 'Australia', 'England', 'South Africa', 'Sri Lanka', 'New Zealand']])\n",
      "View object for items: dict_items([('Sport', 'Cricket'), ('Teams', ['India', 'Australia', 'England', 'South Africa', 'Sri Lanka', 'New Zealand'])])\n"
     ]
    }
   ],
   "source": [
    "# Given dictionary\n",
    "dict1 = {'Sport': 'Cricket', 'Teams': ['India', 'Australia', 'England', 'South Africa', 'Sri Lanka', 'New Zealand']}\n",
    "\n",
    "# Get the view objects for keys, values, and items\n",
    "keys_view = dict1.keys()\n",
    "values_view = dict1.values()\n",
    "items_view = dict1.items()\n",
    "\n",
    "# Display the view objects\n",
    "print(\"View object for keys:\", keys_view)\n",
    "print(\"View object for values:\", values_view)\n",
    "print(\"View object for items:\", items_view)\n"
   ]
  },
  {
   "cell_type": "code",
   "execution_count": null,
   "id": "54830e2a-3f19-4b80-89f1-1605503abdf8",
   "metadata": {},
   "outputs": [],
   "source": []
  }
 ],
 "metadata": {
  "kernelspec": {
   "display_name": "Python 3 (ipykernel)",
   "language": "python",
   "name": "python3"
  },
  "language_info": {
   "codemirror_mode": {
    "name": "ipython",
    "version": 3
   },
   "file_extension": ".py",
   "mimetype": "text/x-python",
   "name": "python",
   "nbconvert_exporter": "python",
   "pygments_lexer": "ipython3",
   "version": "3.10.8"
  }
 },
 "nbformat": 4,
 "nbformat_minor": 5
}
