{
 "cells": [
  {
   "cell_type": "markdown",
   "id": "18ea2154-0e20-4b17-b247-3dbbd5c5b50c",
   "metadata": {},
   "source": [
    "### Q1. Explain Class and Object with respect to Object-Oriented Programming. Give a suitable example."
   ]
  },
  {
   "cell_type": "markdown",
   "id": "53b590c7-2190-4542-9b63-e3c1cf92a8ca",
   "metadata": {},
   "source": [
    "In Object-Oriented Programming (OOP), a class and an object are fundamental concepts that help organize and structure code into reusable and modular components. OOP is a programming paradigm that focuses on creating objects, which are instances of classes, to represent real-world entities or abstract concepts.\n",
    "\n",
    "**Class:**\n",
    "A class is a blueprint or template for creating objects. It defines a set of attributes (data members) and methods (functions) that describe the behavior and properties of objects belonging to that class. In simple terms, a class is a user-defined data type that encapsulates data and functions that operate on that data. It acts as a blueprint from which objects can be created with specific characteristics and functionalities.\n",
    "\n",
    "**Object:**\n",
    "An object is an instance of a class. It represents a real-world entity or an abstract concept that is defined by the class. Each object created from a class has its own unique set of attributes and can perform operations defined by the class's methods. Objects are the building blocks of OOP, and they allow data and functionality to be combined into a single unit, promoting code reusability and organization.\n",
    "\n",
    "Let's illustrate these concepts with a suitable example:\n",
    "\n"
   ]
  },
  {
   "cell_type": "code",
   "execution_count": 4,
   "id": "de957072-d5fa-4596-9397-3abb1ed1e60b",
   "metadata": {},
   "outputs": [
    {
     "name": "stdout",
     "output_type": "stream",
     "text": [
      "Puppy is 3 years old.\n",
      "Puppy is barking!\n",
      "Puppy is fetching the calcium bone.\n",
      "Snoopy is 2 years old.\n",
      "Snoopy is barking!\n",
      "Snoopy is fetching the chicken piece.\n"
     ]
    }
   ],
   "source": [
    "# Class definition\n",
    "class Dog:\n",
    "    def __init__(self, name, age):\n",
    "        self.name = name\n",
    "        self.age = age\n",
    "\n",
    "    def bark(self):\n",
    "        print(f\"{self.name} is barking!\")\n",
    "\n",
    "    def fetch(self, item):\n",
    "        print(f\"{self.name} is fetching the {item}.\")\n",
    "\n",
    "# Object creation\n",
    "dog1 = Dog(\"Puppy\", 3)\n",
    "dog2 = Dog(\"Snoopy\", 2)\n",
    "\n",
    "# Accessing object attributes and methods\n",
    "print(f\"{dog1.name} is {dog1.age} years old.\")\n",
    "dog1.bark()\n",
    "dog1.fetch(\"calcium bone\")\n",
    "\n",
    "print(f\"{dog2.name} is {dog2.age} years old.\")\n",
    "dog2.bark()\n",
    "dog2.fetch(\"chicken piece\")\n"
   ]
  },
  {
   "cell_type": "markdown",
   "id": "29528b2b-d777-4361-bdc4-ebff44ec0e7b",
   "metadata": {},
   "source": [
    "In this example, we define a class `Dog` with attributes `name` and `age`, and two methods `bark()` and `fetch()`. Then, we create two objects `dog1` and `dog2` from the class `Dog`. Each object has its own unique data (name and age) and can perform the methods defined in the class. The objects `dog1` and `dog2` are instances of the `Dog` class, representing individual dogs with their specific characteristics and behavior."
   ]
  },
  {
   "cell_type": "markdown",
   "id": "6a2d2696-0119-440c-856f-8d16c8744c6f",
   "metadata": {},
   "source": [
    "### Q2. Name the four pillars of OOPs."
   ]
  },
  {
   "cell_type": "markdown",
   "id": "dca0f6cd-0b04-4430-8c3b-c7ebab27f3d8",
   "metadata": {},
   "source": [
    "To explain Object-Oriented Programming (OOP) concepts to an interviewer in an easy manner, you can use simple analogies and real-life examples. Here's a brief explanation of each concept:\n",
    "\n",
    "1. **Classes and Objects:**\n",
    "   - Classes are like blueprints or templates that define the structure and behavior of objects.\n",
    "   - Objects are instances of classes, just like a cake baked from a recipe.\n",
    "\n",
    "2. **Encapsulation:**\n",
    "   - Encapsulation is like putting your belongings in a suitcase to keep them safe and organized.\n",
    "   - It allows you to bundle data (attributes) and methods (functions) together in a class, controlling access to the internal state.\n",
    "\n",
    "3. **Inheritance:**\n",
    "   - Inheritance is similar to family relationships, where children inherit traits from their parents.\n",
    "   - It enables a new class (subclass) to inherit properties and behaviors from an existing class (superclass).\n",
    "\n",
    "4. **Polymorphism:**\n",
    "   - Polymorphism is like a remote control that works with different devices, such as a TV, DVD player, and sound system.\n",
    "   - It allows different classes to share a common interface (method name) but provide different implementations.\n",
    "\n",
    "5. **Abstraction:**\n",
    "   - Abstraction is like using a TV remote without knowing its internal circuitry.\n",
    "   - It focuses on showing only the essential features of an object, hiding unnecessary details.\n",
    "\n",
    "\n",
    "**1.Inheritance** is one of the four pillars of Object-Oriented Programming (OOP), along with encapsulation, abstraction, and polymorphism. Inheritance is a mechanism that allows a new class (called the subclass or derived class) to inherit properties and behaviors from an existing class (called the superclass or base class). The subclass can extend and specialize the functionalities of the superclass, creating a hierarchical relationship between classes.\n",
    "\n",
    "Inheritance is classified into three types;\n",
    "\n",
    "1.Single Inheritance\n",
    "\n",
    "2.Multiple Inheritance\n",
    "\n",
    "3.Multilevel Inheritance\n",
    "\n",
    "**Syntax for Inheritance:**\n",
    "\n",
    "In most object-oriented programming languages, inheritance is implemented using the following syntax:\n",
    "\n",
    "```python\n",
    "class Superclass:\n",
    "    # Superclass attributes and methods\n",
    "\n",
    "class Subclass(Superclass):\n",
    "    # Subclass attributes and methods\n",
    "```\n"
   ]
  },
  {
   "cell_type": "code",
   "execution_count": 1,
   "id": "f6d1e844-0470-46e6-8a93-0eea55a2d51e",
   "metadata": {},
   "outputs": [
    {
     "name": "stdout",
     "output_type": "stream",
     "text": [
      "Snoopy says: Bow Bow Bowwwwwuwuwuwuw!\n",
      "Lucky says: Meowwwwwwwwwwwwww!\n"
     ]
    }
   ],
   "source": [
    "# Parent class\n",
    "class Animal:\n",
    "    def __init__(self, name):\n",
    "        self.name = name\n",
    "\n",
    "    def speak(self):\n",
    "        raise NotImplementedError(\"Subclasses must implement the speak method.\")\n",
    "\n",
    "# Subclass inheriting from Animal\n",
    "class Dog(Animal):\n",
    "    def speak(self):\n",
    "        return \"Bow Bow Bowwwwwuwuwuwuw!\"\n",
    "\n",
    "# Subclass inheriting from Animal\n",
    "class Cat(Animal):\n",
    "    def speak(self):\n",
    "        return \"Meowwwwwwwwwwwwww!\"\n",
    "\n",
    "# Creating instances of Dog and Cat\n",
    "dog = Dog(\"Snoopy\")\n",
    "cat = Cat(\"Lucky\")\n",
    "\n",
    "# Using the speak method of Dog and Cat objects\n",
    "print(dog.name + \" says: \" + dog.speak())\n",
    "print(cat.name + \" says: \" + cat.speak())  "
   ]
  },
  {
   "cell_type": "markdown",
   "id": "a0a795bb-6c9a-4f71-a7da-c5ccbe78c60c",
   "metadata": {},
   "source": [
    "**2.Abstraction:**\n",
    "- Abstraction focuses on showing only the relevant information to the outside world while hiding unnecessary details.\n",
    "- In programming, abstraction is achieved by using abstract classes or interfaces to provide a common interface for a group of related classes.\n",
    "- Abstraction allows you to create a simplified view of an object or system, making it easier to understand and use.\n",
    "- It promotes code reusability and modularity by providing a clear separation between the interface and the implementation.\n",
    "\n",
    "**Example of Abstraction:**\n",
    "\n",
    "Let's consider the example of a `Shape` class hierarchy:\n",
    "\n",
    "```python\n",
    "from abc import ABC, abstractmethod\n",
    "\n",
    "class Shape(ABC):\n",
    "    @abstractmethod\n",
    "    def area(self):\n",
    "        pass\n",
    "\n",
    "    @abstractmethod\n",
    "    def perimeter(self):\n",
    "        pass\n",
    "\n",
    "class Circle(Shape):\n",
    "    def __init__(self, radius):\n",
    "        self.radius = radius\n",
    "\n",
    "    def area(self):\n",
    "        return 3.14 * self.radius * self.radius\n",
    "\n",
    "    def perimeter(self):\n",
    "        return 2 * 3.14 * self.radius\n",
    "\n",
    "class Rectangle(Shape):\n",
    "    def __init__(self, length, width):\n",
    "        self.length = length\n",
    "        self.width = width\n",
    "\n",
    "    def area(self):\n",
    "        return self.length * self.width\n",
    "\n",
    "    def perimeter(self):\n",
    "        return 2 * (self.length + self.width)\n",
    "```\n",
    "\n",
    "In this example, the `Shape` class is an abstract class with two abstract methods: `area()` and `perimeter()`. The `Circle` and `Rectangle` classes are concrete subclasses that inherit from the `Shape` class and provide specific implementations for the abstract methods.\n",
    "\n",
    "The abstraction here is that we have a common interface (`area()` and `perimeter()`) for different shapes (Circle and Rectangle). We can use the `Shape` interface to work with different shapes without concerning ourselves with their specific implementations. This promotes code reusability and simplifies the representation of shapes.\n",
    "\n",
    "**Real-Life Application of Abstraction:**\n",
    "\n",
    "A real-life application of abstraction can be found in a user interface (UI) of a mobile app or website. When users interact with an app, they see a simplified and user-friendly interface that hides the underlying complexities of the application's backend. The UI abstracts away the implementation details, providing a clean and intuitive way for users to interact with the app without needing to know how it works internally.\n",
    "\n",
    "**3.Encapsulation:**\n",
    "- Encapsulation is about bundling the data (attributes) and methods (functions) that operate on that data within a single unit (i.e., a class).\n",
    "- It provides a way to protect the internal data of an object from unauthorized access or modification by other parts of the program.\n",
    "- Encapsulation allows you to control the visibility and access to the internal state of an object, promoting data security and integrity.\n",
    "\n",
    "**Example of Encapsulation:**\n",
    "\n",
    "Let's consider the example of a `Person` class:\n",
    "\n",
    "```python\n",
    "class Person:\n",
    "    def __init__(self, name, age):\n",
    "        self._name = name  # Encapsulated attribute (protected with a single underscore)\n",
    "        self._age = age    # Encapsulated attribute (protected with a single underscore)\n",
    "\n",
    "    def get_name(self):\n",
    "        return self._name\n",
    "\n",
    "    def set_name(self, name):\n",
    "        self._name = name\n",
    "\n",
    "    def get_age(self):\n",
    "        return self._age\n",
    "\n",
    "    def set_age(self, age):\n",
    "        if age > 0:\n",
    "            self._age = age\n",
    "\n",
    "    def introduce(self):\n",
    "        return f\"My name is {self._name} and I am {self._age} years old.\"\n",
    "```\n",
    "\n",
    "In this example, the `name` and `age` attributes of the `Person` class are encapsulated and protected using a single underscore (`_`). The class provides getter and setter methods (`get_name()`, `set_name()`, `get_age()`, `set_age()`) to access and modify these attributes.\n",
    "\n",
    "By encapsulating the attributes and providing controlled access through methods, we ensure that the internal state of a `Person` object is not directly accessible or modified from outside the class. This helps prevent unintended modifications to the object's data and ensures data integrity.\n",
    "\n",
    "**Real-Life Application of Encapsulation:**\n",
    "\n",
    "A real-life application of encapsulation can be seen in the design of a database management system. The internal data and operations of the database are encapsulated within the system, and external applications can only interact with the database through a defined set of methods (API). This encapsulation ensures that the database remains secure, and unauthorized access or modification to its internal data is restricted."
   ]
  },
  {
   "cell_type": "markdown",
   "id": "5edfdfd9-441e-4a7f-ae50-9861c91eab74",
   "metadata": {},
   "source": [
    "**4.Polymorphism**\n",
    "\n",
    "Polymorphism allows multiple classes to have a common method name or interface while providing different implementations for that method. This means that objects of different classes can be used interchangeably, as long as they share a common method name. At runtime, the appropriate method implementation is called based on the actual type of the object, enabling flexibility and reusability in the code.\n",
    "\n",
    "Example:"
   ]
  },
  {
   "cell_type": "code",
   "execution_count": 4,
   "id": "be24a571-4390-4f1e-b0df-4a97f7f8ef51",
   "metadata": {},
   "outputs": [
    {
     "name": "stdout",
     "output_type": "stream",
     "text": [
      "Car drives on roads.\n",
      "Airplane flies in the sky.\n",
      "Boat sails on water.\n",
      "Bicycle moves on land.\n"
     ]
    }
   ],
   "source": [
    "class Transportation:\n",
    "    def move(self):\n",
    "        pass\n",
    "\n",
    "class Car(Transportation):\n",
    "    def move(self):\n",
    "        return \"Car drives on roads.\"\n",
    "\n",
    "class Airplane(Transportation):\n",
    "    def move(self):\n",
    "        return \"Airplane flies in the sky.\"\n",
    "\n",
    "class Boat(Transportation):\n",
    "    def move(self):\n",
    "        return \"Boat sails on water.\"\n",
    "\n",
    "class Bicycle(Transportation):\n",
    "    def move(self):\n",
    "        return \"Bicycle moves on land.\"\n",
    "\n",
    "def travel(mode_of_transportation):\n",
    "    return mode_of_transportation.move()\n",
    "\n",
    "# Creating instances of different transportation modes\n",
    "car = Car()\n",
    "airplane = Airplane()\n",
    "boat = Boat()\n",
    "bicycle = Bicycle()\n",
    "\n",
    "# Using the travel function to demonstrate polymorphism\n",
    "print(travel(car))      \n",
    "print(travel(airplane))  \n",
    "print(travel(boat))     \n",
    "print(travel(bicycle))   \n"
   ]
  },
  {
   "cell_type": "markdown",
   "id": "1ae8d2b9-4371-4426-b995-c14ab9b606a4",
   "metadata": {},
   "source": [
    "### Q3. Explain why the __init__() function is used. Give a suitable example."
   ]
  },
  {
   "cell_type": "markdown",
   "id": "acb95bb8-d5cd-4ca5-b977-b74f50c305ec",
   "metadata": {},
   "source": [
    "The `__init__()` function is used in Python to initialize the attributes of an object when it is created from a class. It is a special method that gets automatically called when a new object is instantiated. It allows you to set the initial state of the object and define its properties.`__init__()` function is also called a **Constructor.**\n",
    "\n",
    "**Example of __init__() in Simple Words:**\n",
    "\n",
    "Let's consider a simple `Person` class that has a `name` and an `age` attribute. We use the `__init__()` method to set the initial values of these attributes when creating a new `Person` object:\n",
    "\n",
    "```python\n",
    "class Person:\n",
    "    def __init__(self, name, age):\n",
    "        self.name = name\n",
    "        self.age = age\n",
    "\n",
    "    def introduce(self):\n",
    "        return f\"My name is {self.name} and I am {self.age} years old.\"\n",
    "\n",
    "# Creating a new Person object with name and age\n",
    "person1 = Person(\"Alice\", 30)\n",
    "person2 = Person(\"Bob\", 25)\n",
    "\n",
    "# Calling the introduce() method to display the person's information\n",
    "print(person1.introduce())  # Output: My name is Alice and I am 30 years old.\n",
    "print(person2.introduce())  # Output: My name is Bob and I am 25 years old.\n",
    "```\n",
    "\n",
    "In this example, the `__init__()` method takes two parameters, `name` and `age`, and initializes the corresponding attributes of the `Person` object. When we create a new `Person` object (`person1` and `person2`), the `__init__()` method is automatically called, and the provided values are assigned to the `name` and `age` attributes of each object.\n",
    "\n",
    "By using the `__init__()` method, we ensure that every `Person` object is created with the required attributes set correctly, making it easier to work with objects of the `Person` class and maintaining their state."
   ]
  },
  {
   "cell_type": "markdown",
   "id": "2207af55-2d79-4548-a85a-2fe417c26dfd",
   "metadata": {},
   "source": [
    "### Q4. Why self is used in OOPs?"
   ]
  },
  {
   "cell_type": "markdown",
   "id": "545f8dfb-b37f-4006-958e-b24b00e11d33",
   "metadata": {},
   "source": [
    "In Object-Oriented Programming (OOP), `self` is used as the first parameter in class methods to refer to the instance of the class. It is a convention in Python, though you can use any other name instead of `self`, but it's highly recommended to stick to this convention for clarity and readability.\n",
    "\n",
    "When a method is called on an object, Python automatically passes the instance as the first argument to the method. By convention, we use `self` as the name of this parameter to receive the instance. This allows the method to access and manipulate the attributes and methods of the specific instance on which it is called.\n",
    "\n",
    "**Example:**\n",
    "Let's consider a simple `Person` class to demonstrate the use of `self`:\n",
    "\n",
    "```python\n",
    "class Person:\n",
    "    def __init__(self, name, age):\n",
    "        self.name = name\n",
    "        self.age = age\n",
    "\n",
    "    def introduce(self):\n",
    "        return f\"My name is {self.name} and I am {self.age} years old.\"\n",
    "\n",
    "# Creating a Person object and calling the introduce() method\n",
    "person1 = Person(\"Alice\", 30)\n",
    "print(person1.introduce())  # Output: My name is Alice and I am 30 years old.\n",
    "```\n",
    "\n",
    "In this example, the `__init__()` method takes `self`, `name`, and `age` as parameters. When we create a `Person` object `person1`, the `__init__()` method is called with the instance `person1` as the first argument (`self`). It sets the `name` and `age` attributes of the object.\n",
    "\n",
    "Similarly, the `introduce()` method takes `self` as the parameter to refer to the `person1` instance. Inside the method, we use `self.name` and `self.age` to access the attributes of the specific instance (`person1`) and return the introduction based on its attributes.\n",
    "\n",
    "In summary, `self` is a reference to the instance of the class, and it allows class methods to work with the specific object on which they are called. It is a crucial part of OOP in Python as it enables the concept of instance-level attributes and methods."
   ]
  },
  {
   "cell_type": "markdown",
   "id": "c67a8fe8-0a57-4417-ac88-5638a2f685c8",
   "metadata": {},
   "source": [
    "### Q5. What is inheritance? Give an example for each type of inheritance."
   ]
  },
  {
   "cell_type": "code",
   "execution_count": null,
   "id": "dd7a9406-c316-4cba-80e4-739d7bdf95d9",
   "metadata": {},
   "outputs": [],
   "source": []
  },
  {
   "cell_type": "code",
   "execution_count": null,
   "id": "0243ea2b-6ac0-4169-a621-5979c58ee9a0",
   "metadata": {},
   "outputs": [],
   "source": []
  },
  {
   "cell_type": "code",
   "execution_count": null,
   "id": "2aef5b7c-ef7d-4976-82af-0d4174be27ca",
   "metadata": {},
   "outputs": [],
   "source": []
  },
  {
   "cell_type": "code",
   "execution_count": null,
   "id": "cb5dd48c-7cb2-476e-8edc-cec630be454a",
   "metadata": {},
   "outputs": [],
   "source": []
  }
 ],
 "metadata": {
  "kernelspec": {
   "display_name": "Python 3 (ipykernel)",
   "language": "python",
   "name": "python3"
  },
  "language_info": {
   "codemirror_mode": {
    "name": "ipython",
    "version": 3
   },
   "file_extension": ".py",
   "mimetype": "text/x-python",
   "name": "python",
   "nbconvert_exporter": "python",
   "pygments_lexer": "ipython3",
   "version": "3.10.8"
  }
 },
 "nbformat": 4,
 "nbformat_minor": 5
}
